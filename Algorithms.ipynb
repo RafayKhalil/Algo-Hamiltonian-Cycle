{
 "cells": [
  {
   "cell_type": "markdown",
   "metadata": {},
   "source": [
    "## Dependencies"
   ]
  },
  {
   "cell_type": "code",
   "execution_count": 5,
   "metadata": {},
   "outputs": [],
   "source": [
    "import matplotlib.pyplot as plt\n",
    "import networkx as nx # for graph creation\n",
    "import time # for timing"
   ]
  },
  {
   "cell_type": "code",
   "execution_count": 25,
   "metadata": {},
   "outputs": [],
   "source": [
    "# read the graph from the file\n",
    "def read_graph(filename):\n",
    "    G = nx.Graph()\n",
    "    with open(filename) as f:\n",
    "        for line in f:\n",
    "            if line[0] == '#':\n",
    "                continue\n",
    "            u, v = line.split()\n",
    "            G.add_edge(int(u), int(v))\n",
    "    return G"
   ]
  },
  {
   "cell_type": "code",
   "execution_count": null,
   "metadata": {},
   "outputs": [],
   "source": [
    "g = read_graph('HamiltonianCycle.txt')"
   ]
  },
  {
   "cell_type": "code",
   "execution_count": 30,
   "metadata": {},
   "outputs": [
    {
     "name": "stdout",
     "output_type": "stream",
     "text": [
      "Number of nodes: 1965206\n",
      "Number of edges: 2766607\n"
     ]
    }
   ],
   "source": [
    "# get num of nodes and edges \n",
    "num_nodes = g.number_of_nodes()\n",
    "num_edges = g.number_of_edges()\n",
    "\n",
    "print('Number of nodes:', num_nodes)\n",
    "print('Number of edges:', num_edges)"
   ]
  },
  {
   "cell_type": "markdown",
   "metadata": {},
   "source": [
    "## Brute Force"
   ]
  },
  {
   "cell_type": "markdown",
   "metadata": {},
   "source": [
    "## Back Tracking"
   ]
  },
  {
   "cell_type": "code",
   "execution_count": 21,
   "metadata": {},
   "outputs": [
    {
     "name": "stdout",
     "output_type": "stream",
     "text": [
      "Solution Exists: Following is one Hamiltonian Cycle\n",
      "0 -> 1 -> 2 -> 4 -> 3 -> 0\n"
     ]
    },
    {
     "data": {
      "image/png": "[encoded data removed]",
      "text/plain": [
       "<Figure size 300x200 with 1 Axes>"
      ]
     },
     "metadata": {},
     "output_type": "display_data"
    },
    {
     "data": {
      "text/plain": [
       "True"
      ]
     },
     "execution_count": 21,
     "metadata": {},
     "output_type": "execute_result"
    }
   ],
   "source": [
    "# Code referred from GeeksforGeeks - https://www.geeksforgeeks.org/hamiltonian-cycle/\n",
    "class Graph():\n",
    "    def __init__(self, vertices):\n",
    "        # Initialize the graph as an adjacency matrix with all with 0's\n",
    "        self.graph = [[0 for column in range(vertices)] for row in range(vertices)]\n",
    "        self.V = vertices  # Set the number of vertices\n",
    "\n",
    "    def add_edge(self, u, v):\n",
    "        # Add an undirected edge between u and v\n",
    "        self.graph[u][v] = 1\n",
    "        self.graph[v][u] = 1\n",
    "\n",
    "    def isSafe(self, v, pos, path):\n",
    "        # Check if current vertex and last vertex in path are adjacent\n",
    "        if self.graph[path[pos-1]][v] == 0:\n",
    "            return False\n",
    "        # Check if current vertex not already in path\n",
    "        for vertex in path:\n",
    "            if vertex == v:\n",
    "                return False\n",
    "        return True\n",
    "\n",
    "   \t# A recursive function to solve hamiltonian cycle problem \n",
    "    def hamCycleUtil(self, path, pos):\n",
    "        # Base case: if all vertices are included in the path\n",
    "        if pos == self.V:\n",
    "            # Last vertex must be adjacent to the first vertex in path to make a cycle\n",
    "            if self.graph[path[pos-1]][path[0]] == 1:\n",
    "                return True\n",
    "            else:\n",
    "                return False\n",
    "        # Explore all vertices other than the first vertex\n",
    "        for v in range(1, self.V):\n",
    "            if self.isSafe(v, pos, path):\n",
    "                path[pos] = v\n",
    "                if self.hamCycleUtil(path, pos+1):\n",
    "                    return True\n",
    "                # DeadEnd - Remove current vertex if it doesn't lead to a solution\n",
    "                path[pos] = -1\n",
    "        return False\n",
    "\n",
    "    def hamCycle(self):\n",
    "        # Initialize path as -1\n",
    "        path = [-1] * self.V\n",
    "        # Start from vertex 0 as the first vertex in the path\n",
    "        path[0] = 0\n",
    "        # Call the recursive helper function to find Hamiltonian cycle\n",
    "        if not self.hamCycleUtil(path, 1):\n",
    "            print(\"Solution does not exist\\n\")\n",
    "            self.plot_graph()\n",
    "            return False\n",
    "        self.printSolution(path)\n",
    "        self.plot_graph(path)\n",
    "        return True\n",
    "\n",
    "    def printSolution(self, path):\n",
    "        print(\"Solution Exists: Following is one Hamiltonian Cycle\")\n",
    "        for vertex in path:\n",
    "            print(vertex, end=' -> ')\n",
    "        print(path[0])  # Print the first vertex again to show the complete cycle\n",
    "\n",
    "    def plot_graph(self, path=None):\n",
    "        G = nx.Graph()\n",
    "        for i in range(self.V):\n",
    "            for j in range(i, self.V):\n",
    "                if self.graph[i][j] == 1:\n",
    "                    G.add_edge(i, j)\n",
    "        pos = nx.spectral_layout(G)\n",
    "        plt.figure(figsize=(3, 2))\n",
    "        nx.draw(G, pos, with_labels=True, font_weight='bold', node_color='yellow', edge_color='gray')\n",
    "        if path:\n",
    "            edges_in_path = [(path[i], path[(i + 1) % self.V]) for i in range(self.V)]\n",
    "            nx.draw_networkx_edges(G, pos, edgelist=edges_in_path, edge_color='red', width=2)\n",
    "        plt.show()\n",
    "\n",
    "# graph used in report\n",
    "# g1 = Graph(5) \n",
    "# g1.add_edge(0, 1)\n",
    "# g1.add_edge(0, 3)\n",
    "# g1.add_edge(1, 2)\n",
    "# g1.add_edge(1, 3)\n",
    "# g1.add_edge(1, 4)\n",
    "# g1.add_edge(2, 4)\n",
    "# g1.add_edge(3, 4)\n",
    "# g1.hamCycle()\n",
    "\n",
    "# g2 = Graph(5) \n",
    "# g2.add_edge(0, 1)\n",
    "# g2.add_edge(0, 3)\n",
    "# g2.add_edge(1, 2)\n",
    "# g2.add_edge(1, 3)\n",
    "# g2.add_edge(1, 4)\n",
    "# g2.add_edge(2, 4)\n",
    "# g2.add_edge(3, 4)\n",
    "# g2.add_edge(0, 2)\n",
    "# g2.hamCycle()\n",
    "\n",
    "# run the algorithm on the graph\n",
    "start_time = time.time()\n",
    "g1 = Graph(num_nodes)\n",
    "for u, v in g.edges():\n",
    "    g1.add_edge(u, v)\n",
    "g1.hamCycle()\n",
    "print('Time taken:', time.time() - start_time)\n"
   ]
  },
  {
   "cell_type": "markdown",
   "metadata": {},
   "source": [
    "## Dynamic Programming"
   ]
  }
 ],
 "metadata": {
  "kernelspec": {
   "display_name": "Python 3",
   "language": "python",
   "name": "python3"
  },
  "language_info": {
   "codemirror_mode": {
    "name": "ipython",
    "version": 3
   },
   "file_extension": ".py",
   "mimetype": "text/x-python",
   "name": "python",
   "nbconvert_exporter": "python",
   "pygments_lexer": "ipython3",
   "version": "3.11.0"
  }
 },
 "nbformat": 4,
 "nbformat_minor": 2
}
