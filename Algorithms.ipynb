{
 "cells": [
  {
   "cell_type": "markdown",
   "metadata": {},
   "source": [
    "## Dependencies"
   ]
  },
  {
   "cell_type": "code",
   "execution_count": 137,
   "metadata": {},
   "outputs": [],
   "source": [
    "import matplotlib.pyplot as plt\n",
    "import networkx as nx # for graph creation\n",
    "import time # for timing\n",
    "from itertools import permutations # for generating all possible permutations\n"
   ]
  },
  {
   "cell_type": "markdown",
   "metadata": {},
   "source": [
    "## Graph Creation"
   ]
  },
  {
   "cell_type": "code",
   "execution_count": 138,
   "metadata": {},
   "outputs": [],
   "source": [
    "class Graph():\n",
    "    def __init__(self, vertices):\n",
    "        # Initialize the graph as an adjacency matrix with all with 0's\n",
    "        self.graph = [[0 for column in range(vertices)] for row in range(vertices)]\n",
    "        self.V = vertices  # Set the number of vertices\n",
    "\n",
    "    def add_edge(self, u, v):\n",
    "        # Add an undirected edge between u and v\n",
    "        self.graph[u][v] = 1\n",
    "        self.graph[v][u] = 1\n",
    "\n",
    "    def add_edges_from_graph(self, graph):\n",
    "        for edge in graph.edges():\n",
    "            self.add_edge(edge[0], edge[1])\n",
    "\n",
    "    def summary(self):\n",
    "        # print nodes and edges\n",
    "        print(\"Nodes: \", self.V)\n",
    "        print(\"Edges: \", sum([sum(row) for row in self.graph])//2)\n",
    "\n",
    "    def plot_graph(self):\n",
    "        G = nx.Graph()\n",
    "        for i in range(self.V):\n",
    "            G.add_node(i)\n",
    "        for i in range(self.V):\n",
    "            for j in range(i, self.V):\n",
    "                if self.graph[i][j] == 1:\n",
    "                    G.add_edge(i, j)\n",
    "        nx.draw(G, with_labels=True)\n",
    "        plt.show()"
   ]
  },
  {
   "cell_type": "code",
   "execution_count": null,
   "metadata": {},
   "outputs": [],
   "source": [
    "# make graph\n",
    "n = 10\n",
    "cycle_graph = nx.complete_graph(n)\n",
    "cycle_graph_instance = Graph(n)\n",
    "cycle_graph_instance.add_edges_from_graph(cycle_graph)\n",
    "cycle_graph_instance.summary()"
   ]
  },
  {
   "cell_type": "markdown",
   "metadata": {},
   "source": [
    "## Brute Force"
   ]
  },
  {
   "cell_type": "code",
   "execution_count": 139,
   "metadata": {},
   "outputs": [],
   "source": [
    "def is_valid_cycle(perm, adj):\n",
    "    # Check if the permutation forms a valid cycle in the graph\n",
    "    N = len(perm)\n",
    "    # Check if all consecutive vertices are connected\n",
    "    for i in range(N - 1):\n",
    "        if adj[perm[i]][perm[i + 1]] == 0:\n",
    "            return False\n",
    "    # Check if the last vertex is connected to the first vertex to complete the cycle\n",
    "    if adj[perm[N-1]][perm[0]] == 0:\n",
    "        return False\n",
    "    return True\n",
    "\n",
    "def hamiltonian_cycle_bruteforce(graph):\n",
    "    # Find a Hamiltonian cycle in the graph using brute force\n",
    "    adj = graph.graph if isinstance(graph, Graph) else graph  # Assuming Graph class has a 'graph' attribute\n",
    "    N = len(adj)  # Number of vertices\n",
    "    all_perms = permutations(range(N))\n",
    "    \n",
    "    for perm in all_perms:\n",
    "        if is_valid_cycle(perm, adj):\n",
    "            complete_cycle = perm + (perm[0],)\n",
    "            print_bf(complete_cycle)\n",
    "            plot_bf(graph, complete_cycle)\n",
    "            return True  # Return True and the complete cycle\n",
    "    plot_bf(graph)\n",
    "    print(\"Solution does not exist\\n\")\n",
    "    return False  # Return False if no valid cycle is found\n",
    "\n",
    "def print_bf(path):\n",
    "    print(\"Solution Exists: Following is one Hamiltonian Cycle\")\n",
    "    for vertex in path[:-1]:\n",
    "        print(vertex, end=\" -> \")\n",
    "    print(path[-1])\n",
    "\n",
    "def plot_bf(graph, path=None):\n",
    "    G = nx.Graph()\n",
    "    for i in range(len(graph)):\n",
    "        for j in range(i, len(graph)):\n",
    "            if graph[i][j] == 1:\n",
    "                G.add_edge(i, j)\n",
    "    pos = nx.spring_layout(G)\n",
    "    plt.figure(figsize=(5, 2))\n",
    "    nx.draw(G, pos, with_labels=True, font_weight='bold', node_color='yellow', edge_color='gray')\n",
    "    if path:\n",
    "        edges_in_path = [(path[i], path[(i + 1) % len(graph)]) for i in range(len(graph))]\n",
    "        nx.draw_networkx_edges(G, pos, edgelist=edges_in_path, edge_color='red', width=2)\n",
    "    plt.show()"
   ]
  },
  {
   "cell_type": "code",
   "execution_count": null,
   "metadata": {},
   "outputs": [],
   "source": [
    "hamiltonian_cycle_bruteforce(cycle_graph_instance.graph)"
   ]
  },
  {
   "cell_type": "markdown",
   "metadata": {},
   "source": [
    "## Back Tracking"
   ]
  },
  {
   "cell_type": "code",
   "execution_count": 140,
   "metadata": {},
   "outputs": [],
   "source": [
    "def isSafe(graph, v, pos, path):\n",
    "    # Check if current vertex and last vertex in path are adjacent\n",
    "    if graph[path[pos-1]][v] == 0:\n",
    "        return False\n",
    "    # Check if current vertex not already in path\n",
    "    for vertex in path:\n",
    "        if vertex == v:\n",
    "            return False\n",
    "    return True\n",
    "\n",
    "def hamCycleUtil(graph, path, pos):\n",
    "    V = len(graph)\n",
    "    # Base case: if all vertices are included in the path\n",
    "    if pos == V:\n",
    "        # Last vertex must be adjacent to the first vertex in path to make a cycle\n",
    "        if graph[path[pos-1]][path[0]] == 1:\n",
    "            return True\n",
    "        else:\n",
    "            return False\n",
    "    # Explore all vertices other than the first vertex\n",
    "    for v in range(1, V):\n",
    "        if isSafe(graph, v, pos, path):\n",
    "            path[pos] = v\n",
    "            if hamCycleUtil(graph, path, pos+1):\n",
    "                return True\n",
    "            # DeadEnd - Remove current vertex if it doesn't lead to a solution\n",
    "            path[pos] = -1\n",
    "    return False\n",
    "\n",
    "def hamCycle(graph):\n",
    "    V = len(graph)\n",
    "    # Initialize path as -1\n",
    "    path = [-1] * V\n",
    "    # Start from vertex 0 as the first vertex in the path\n",
    "    path[0] = 0\n",
    "    # Call the recursive helper function to find Hamiltonian cycle\n",
    "    if not hamCycleUtil(graph, path, 1):\n",
    "        print(\"Solution does not exist\\n\")\n",
    "        plot_bt(graph)\n",
    "        return False\n",
    "    print_bt(path)\n",
    "    plot_bt(graph, path)\n",
    "    return True\n",
    "\n",
    "def print_bt(path):\n",
    "    print(\"Solution Exists: Following is one Hamiltonian Cycle\")\n",
    "    for vertex in path:\n",
    "        print(vertex, end=' -> ')\n",
    "    print(path[0])  # Print the first vertex again to show the complete cycle\n",
    "\n",
    "def plot_bt(graph, path=None):\n",
    "\n",
    "    G = nx.Graph()\n",
    "    for i in range(len(graph)):\n",
    "        for j in range(i, len(graph)):\n",
    "            if graph[i][j] == 1:\n",
    "                G.add_edge(i, j)\n",
    "    pos = nx.spring_layout(G)\n",
    "    plt.figure(figsize=(5, 2))\n",
    "    nx.draw(G, pos, with_labels=True, font_weight='bold', node_color='yellow', edge_color='gray')\n",
    "    if path:\n",
    "        edges_in_path = [(path[i], path[(i + 1) % len(graph)]) for i in range(len(graph))]\n",
    "        nx.draw_networkx_edges(G, pos, edgelist=edges_in_path, edge_color='red', width=2)\n",
    "    plt.show()\n"
   ]
  },
  {
   "cell_type": "code",
   "execution_count": null,
   "metadata": {},
   "outputs": [],
   "source": [
    "hamCycle(cycle_graph_instance.graph)"
   ]
  },
  {
   "cell_type": "markdown",
   "metadata": {},
   "source": [
    "## Complexity Analysis"
   ]
  },
  {
   "cell_type": "code",
   "execution_count": 143,
   "metadata": {},
   "outputs": [
    {
     "name": "stdout",
     "output_type": "stream",
     "text": [
      "Nodes:  100\n",
      "Edges:  4950\n"
     ]
    },
    {
     "ename": "AttributeError",
     "evalue": "'list' object has no attribute 'summary'",
     "output_type": "error",
     "traceback": [
      "\u001b[1;31m---------------------------------------------------------------------------\u001b[0m",
      "\u001b[1;31mAttributeError\u001b[0m                            Traceback (most recent call last)",
      "Cell \u001b[1;32mIn[143], line 43\u001b[0m\n\u001b[0;32m     41\u001b[0m \u001b[38;5;66;03m# Example values for 'n'\u001b[39;00m\n\u001b[0;32m     42\u001b[0m n_values \u001b[38;5;241m=\u001b[39m [\u001b[38;5;241m100\u001b[39m]\n\u001b[1;32m---> 43\u001b[0m \u001b[43mmain\u001b[49m\u001b[43m(\u001b[49m\u001b[43mn_values\u001b[49m\u001b[43m)\u001b[49m\n",
      "Cell \u001b[1;32mIn[143], line 18\u001b[0m, in \u001b[0;36mmain\u001b[1;34m(n_values)\u001b[0m\n\u001b[0;32m     15\u001b[0m \u001b[38;5;28;01mfor\u001b[39;00m n \u001b[38;5;129;01min\u001b[39;00m n_values:\n\u001b[0;32m     16\u001b[0m     \u001b[38;5;66;03m# Generate a complete graph\u001b[39;00m\n\u001b[0;32m     17\u001b[0m     graph \u001b[38;5;241m=\u001b[39m generate_complete_graph(n)\n\u001b[1;32m---> 18\u001b[0m     \u001b[43mgraph\u001b[49m\u001b[38;5;241;43m.\u001b[39;49m\u001b[43msummary\u001b[49m()\n\u001b[0;32m     20\u001b[0m     \u001b[38;5;66;03m# Backtracking algorithm\u001b[39;00m\n\u001b[0;32m     21\u001b[0m     start_time \u001b[38;5;241m=\u001b[39m time\u001b[38;5;241m.\u001b[39mtime()\n",
      "\u001b[1;31mAttributeError\u001b[0m: 'list' object has no attribute 'summary'"
     ]
    }
   ],
   "source": [
    "def generate_complete_graph(n):\n",
    "    \"\"\"\n",
    "    Generate a complete graph with 'n' vertices using Graph class.\n",
    "    \"\"\"\n",
    "    complete_graph = nx.complete_graph(n)\n",
    "    complete_graph_instance = Graph(n)\n",
    "    complete_graph_instance.add_edges_from_graph(complete_graph)\n",
    "    complete_graph_instance.summary()\n",
    "    return cycle_graph_instance.graph\n",
    "\n",
    "def main(n_values):\n",
    "    bt_runtimes = []\n",
    "    bf_runtimes = []\n",
    "\n",
    "    for n in n_values:\n",
    "        # Generate a complete graph\n",
    "        graph = generate_complete_graph(n)\n",
    "\n",
    "        # Backtracking algorithm\n",
    "        start_time = time.time()\n",
    "        hamCycle(graph)\n",
    "        bt_runtime = time.time() - start_time\n",
    "        bt_runtimes.append(bt_runtime)\n",
    "\n",
    "        # Brute force algorithm\n",
    "        start_time = time.time()\n",
    "        hamiltonian_cycle_bruteforce(graph)\n",
    "        bf_runtime = time.time() - start_time\n",
    "        bf_runtimes.append(bf_runtime)\n",
    "\n",
    "    # Plotting the runtimes\n",
    "    plt.plot(n_values, bt_runtimes, label='Backtracking')\n",
    "    plt.plot(n_values, bf_runtimes, label='Brute Force')\n",
    "    plt.xlabel('Number of Vertices')\n",
    "    plt.ylabel('Runtime (seconds)')\n",
    "    plt.title('Comparison of Backtracking and Brute Force for Hamiltonian Cycle')\n",
    "    plt.legend()\n",
    "    plt.show()\n",
    "\n",
    "# Example values for 'n'\n",
    "n_values = [100]\n",
    "main(n_values)"
   ]
  },
  {
   "cell_type": "markdown",
   "metadata": {},
   "source": [
    "## Dynamic Programming"
   ]
  }
 ],
 "metadata": {
  "kernelspec": {
   "display_name": "Python 3",
   "language": "python",
   "name": "python3"
  },
  "language_info": {
   "codemirror_mode": {
    "name": "ipython",
    "version": 3
   },
   "file_extension": ".py",
   "mimetype": "text/x-python",
   "name": "python",
   "nbconvert_exporter": "python",
   "pygments_lexer": "ipython3",
   "version": "3.11.0"
  }
 },
 "nbformat": 4,
 "nbformat_minor": 2
}
